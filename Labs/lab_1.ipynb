{
 "cells": [
  {
   "cell_type": "markdown",
   "metadata": {},
   "source": [
    "# Lab 1\n",
    "\n",
    "Import the packages \"Pandas\" and \"MatPlotLib\" into Jupyter Notebook."
   ]
  },
  {
   "cell_type": "code",
   "execution_count": null,
   "metadata": {
    "collapsed": true
   },
   "outputs": [],
   "source": [
    "import pandas as pd\n",
    "import matplotlib.pyplot as plt\n",
    "%matplotlib inline"
   ]
  },
  {
   "cell_type": "code",
   "execution_count": null,
   "metadata": {
    "collapsed": true
   },
   "outputs": [],
   "source": [
    "#import Facebook's stock data\n",
    "fb = pd.DataFrame.from_csv('data/facebook.csv')"
   ]
  },
  {
   "cell_type": "code",
   "execution_count": 3,
   "outputs": [],
   "source": [
    "print(fb.head())"
   ],
   "metadata": {
    "collapsed": false
   }
  },
  {
   "cell_type": "code",
   "execution_count": null,
   "metadata": {
    "collapsed": true
   },
   "outputs": [],
   "source": [
    "#It is your turn to import Microsoft's stock data - \"microsoft.csv\", which is located in the same folder of facebook.csv\n",
    "#Replace \"None\" with your code\n",
    "ms = None"
   ]
  },
  {
   "cell_type": "code",
   "execution_count": 5,
   "outputs": [],
   "source": [
    "# print head of ms, 1 line\n"
   ],
   "metadata": {
    "collapsed": false
   }
  },
  {
   "cell_type": "markdown",
   "metadata": {},
   "source": [
    "**Expected Output:**"
   ]
  },
  {
   "cell_type": "markdown",
   "metadata": {},
   "source": [
    "<tr>\n",
    "    <th>Date</th>\n",
    "    <th>Open</th>  \n",
    "    <th>High</th>\n",
    "    <th>Low</th>\n",
    "    <th>Close</th>\n",
    "    <th>Adj Close</th>\n",
    "    <th>Volume</th>\n",
    "</tr>\n",
    "<tr>\n",
    "    <td>2014-12-31</td>\n",
    "    <td>46.730000</td>  \n",
    "    <td>47.439999</td>\n",
    "    <td>46.450001</td>\n",
    "    <td>46.450001</td>\n",
    "    <td>42.848763</td>\n",
    "    <td>21552500</td>\n",
    "</tr>\n",
    "<tr>\n",
    "    <td>2015-01-02</td>\n",
    "    <td>46.660000</td>  \n",
    "    <td>47.419998</td>\n",
    "    <td>46.540001</td>\n",
    "    <td>46.759998</td>\n",
    "    <td>43.134731</td>\n",
    "    <td>27913900</td>\n",
    "</tr>\n",
    "<tr>\n",
    "    <td>2015-01-05</td>\n",
    "    <td>46.369999</td>  \n",
    "    <td>46.730000</td>\n",
    "    <td>46.250000</td>\n",
    "    <td>46.330002</td>\n",
    "    <td>42.738068</td>\n",
    "    <td>39673900</td>\n",
    "</tr>\n",
    "<tr>\n",
    "    <td>2015-01-06</td>\n",
    "    <td>46.380001</td>  \n",
    "    <td>46.750000</td>\n",
    "    <td>45.540001</td>\n",
    "    <td>45.650002</td>\n",
    "    <td>42.110783</td>\n",
    "    <td>36447900</td>\n",
    "</tr>\n",
    "<tr>\n",
    "    <td>2015-01-07</td>\n",
    "    <td>45.980000</td>  \n",
    "    <td>46.459999</td>\n",
    "    <td>45.490002</td>\n",
    "    <td>46.230000</td>\n",
    "    <td>42.645817</td>\n",
    "    <td>29114100</td>\n",
    "</tr>\n"
   ]
  },
  {
   "cell_type": "markdown",
   "metadata": {},
   "source": [
    "## Show the size of a DataFrame using \"Shape\""
   ]
  },
  {
   "cell_type": "code",
   "execution_count": null,
   "metadata": {},
   "outputs": [],
   "source": [
    "print(fb.shape)"
   ]
  },
  {
   "cell_type": "code",
   "execution_count": null,
   "outputs": [],
   "source": [
    "# print the shape of ms, 1 line\n"
   ],
   "metadata": {
    "collapsed": false
   }
  },
  {
   "cell_type": "markdown",
   "metadata": {},
   "source": [
    "## Show summary statistics of a DataFrame"
   ]
  },
  {
   "cell_type": "code",
   "execution_count": null,
   "metadata": {},
   "outputs": [],
   "source": [
    "# print summary statistics of Facebook\n",
    "print(fb.describe())"
   ]
  },
  {
   "cell_type": "code",
   "execution_count": null,
   "outputs": [],
   "source": [
    "# print summary statistics of Microsoft\n"
   ],
   "metadata": {
    "collapsed": false
   }
  },
  {
   "cell_type": "markdown",
   "metadata": {},
   "source": [
    "## Locate a particular row of data using \"Selection by label\""
   ]
  },
  {
   "cell_type": "code",
   "execution_count": null,
   "metadata": {
    "collapsed": true
   },
   "outputs": [],
   "source": [
    "# select all the price information of Facebook in 2016.\n",
    "fb_2015 = fb.loc['2015-01-01':'2015-12-31']"
   ]
  },
  {
   "cell_type": "code",
   "execution_count": null,
   "metadata": {},
   "outputs": [],
   "source": [
    "# print the price of Facebook on '2015-03-16'\n",
    "print(fb_2015.loc['2015-03-16'])"
   ]
  },
  {
   "cell_type": "code",
   "execution_count": null,
   "metadata": {
    "collapsed": true
   },
   "outputs": [],
   "source": [
    "# select all the price information of Microsoft in 2016.\n"
   ]
  },
  {
   "cell_type": "code",
   "execution_count": null,
   "metadata": {},
   "outputs": [],
   "source": [
    "# print the price of Microsoft on '2016-03-16'\n"
   ]
  },
  {
   "cell_type": "markdown",
   "metadata": {},
   "source": [
    "**Expected Output:**"
   ]
  },
  {
   "cell_type": "markdown",
   "metadata": {},
   "source": [
    "<tr>\n",
    "    <td>Open</td>\n",
    "    <td>5.345000e+01</td>\n",
    "</tr>\n",
    "<tr>\n",
    "    <td>High</td>\n",
    "    <td>5.460000e+01</td>\n",
    "</tr>\n",
    "<tr>\n",
    "    <td>Low</td>\n",
    "    <td>5.340000e+01</td>\n",
    "</tr>\n",
    "<tr>\n",
    "    <td>Close</td>\n",
    "    <td>5.435000e+01</td>\n",
    "</tr>\n",
    "<tr>\n",
    "    <td>Adj Close</td>\n",
    "    <td>5.187095e+01</td>\n",
    "</tr>\n",
    "<tr>\n",
    "    <td>Volume</td>\n",
    "    <td>3.169170e+07</td>\n",
    "</tr>"
   ]
  },
  {
   "cell_type": "markdown",
   "metadata": {},
   "source": [
    "## Locate a particular row of data using \"Selection by position\""
   ]
  },
  {
   "cell_type": "code",
   "execution_count": null,
   "metadata": {},
   "outputs": [],
   "source": [
    "# print the opening price of the first row\n",
    "print(fb.iloc[0, 0])"
   ]
  },
  {
   "cell_type": "code",
   "execution_count": null,
   "metadata": {
    "collapsed": true
   },
   "outputs": [],
   "source": [
    "# print the opening price of the last row\n"
   ]
  },
  {
   "cell_type": "markdown",
   "metadata": {},
   "source": [
    "**Expected Output:** 90.559998"
   ]
  },
  {
   "cell_type": "markdown",
   "metadata": {},
   "source": [
    "## Plot the stock data using plot() method"
   ]
  },
  {
   "cell_type": "code",
   "execution_count": null,
   "metadata": {},
   "outputs": [],
   "source": [
    "plt.figure(figsize=(10, 8))\n",
    "fb['Close'].plot()\n",
    "plt.show()"
   ]
  },
  {
   "cell_type": "code",
   "execution_count": null,
   "metadata": {},
   "outputs": [],
   "source": [
    "plt.figure(figsize=(10, 8))\n",
    "# plot only the Close price of 2016 of Microsoft, 1 line \n"
   ]
  },
  {
   "cell_type": "markdown",
   "metadata": {},
   "source": [
    "**Expected Output:**"
   ]
  },
  {
   "cell_type": "markdown",
   "metadata": {},
   "source": [
    "<img src=\"data:image/jpeg;base64,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\" alt=\"\" />"
   ]
  },
  {
   "cell_type": "code",
   "execution_count": null,
   "outputs": [],
   "source": [],
   "metadata": {
    "collapsed": false
   }
  }
 ],
 "metadata": {
  "kernelspec": {
   "display_name": "Python 3",
   "language": "python",
   "name": "python3"
  },
  "language_info": {
   "codemirror_mode": {
    "name": "ipython",
    "version": 3
   },
   "file_extension": ".py",
   "mimetype": "text/x-python",
   "name": "python",
   "nbconvert_exporter": "python",
   "pygments_lexer": "ipython3",
   "version": "3.6.2"
  }
 },
 "nbformat": 4,
 "nbformat_minor": 2
}
